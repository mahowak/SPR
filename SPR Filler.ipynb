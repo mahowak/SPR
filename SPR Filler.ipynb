{
 "cells": [
  {
   "cell_type": "code",
   "execution_count": 28,
   "metadata": {},
   "outputs": [
    {
     "data": {
      "text/plain": [
       "\"['The', 'waiter', 'insisted', 'the', 'reservation', 'was', 'made', 'yesterday.']\""
      ]
     },
     "execution_count": 28,
     "metadata": {},
     "output_type": "execute_result"
    }
   ],
   "source": [
    "import pandas as pd\n",
    "df = pd.read_excel(\"sample_spr_stim_2.xlsx\")\n",
    "df[\"Sentence\"] = [str([ j for j in i.split()])  for i in df[\"Sentence\"]]\n",
    "df[\"Sentence\"][0]"
   ]
  },
  {
   "cell_type": "code",
   "execution_count": 29,
   "metadata": {},
   "outputs": [
    {
     "name": "stdout",
     "output_type": "stream",
     "text": [
      "[[\"bias-comp-comp\",1], \"DashedSentence\", {s: ['The', 'waiter', 'insisted', 'the', 'reservation', 'was', 'made', 'yesterday.']}, \"Question\", {q: \" Is there a waiter??\", hasCorrect: 0}],\n",
      "[[\"bias-noun-comp\",1], \"DashedSentence\", {s: ['The', 'waiter', 'confirmed', 'the', 'reservation', 'was', 'made', 'yesterday.']}, \"Question\", {q: \" Is there a waiter??\", hasCorrect: 0}],\n",
      "[[\"bias-comp-comp\",2], \"DashedSentence\", {s: ['The', 'chef', 'claimed', 'the', 'recipe', 'would', 'require', 'using', 'fresh', 'basil.']}, \"Question\", {q: \" Does the chef mention basil??\", hasCorrect: 0}],\n",
      "[[\"bias-noun-comp\",2], \"DashedSentence\", {s: ['The', 'chef', 'remembered', 'the', 'recipe', 'would', 'require', 'using', 'fresh', 'basil.']}, \"Question\", {q: \" Does the chef mention basil??\", hasCorrect: 0}],\n",
      "[[\"bias-comp-comp\",3], \"DashedSentence\", {s: ['The', 'worker', 'pretended', 'the', 'equipment', 'was', 'ready', 'to', 'be', 'used.']}, \"Question\", {q: \" Did the worker mention equipment??\", hasCorrect: 0}],\n",
      "[[\"bias-noun-comp\",3], \"DashedSentence\", {s: ['The', 'worker', 'revealed', 'the', 'equipment', 'was', 'ready', 'to', 'be', 'used.']}, \"Question\", {q: \" Did the worker mention equipment??\", hasCorrect: 0}],\n",
      "[[\"bias-comp-comp\",4], \"DashedSentence\", {s: ['The', 'accountant', 'hinted', 'the', 'client', 'was', 'cheating', 'on', 'his', 'taxes.']}, \"Question\", {q: \" Is there an accountant??\", hasCorrect: 0}],\n",
      "[[\"bias-noun-comp\",4], \"DashedSentence\", {s: ['The', 'accountant', 'advised', 'the', 'client', 'was', 'cheating', 'on', 'his', 'taxes.']}, \"Question\", {q: \" Is there an accountant??\", hasCorrect: 0}],\n",
      "[[\"bias-comp-comp\",5], \"DashedSentence\", {s: ['The', 'author', 'boasted', 'the', 'novel', 'was', 'likely', 'to', 'be', 'a', 'best-seller.']}, \"Question\", {q: \" Did the author do something??\", hasCorrect: 0}],\n",
      "[[\"bias-noun-comp\",5], \"DashedSentence\", {s: ['The', 'author', 'wrote', 'the', 'novel', 'was', 'likely', 'to', 'be', 'a', 'best-seller.']}, \"Question\", {q: \" Did the author do something??\", hasCorrect: 0}],\n",
      "[[\"bias-comp-comp\",6], \"DashedSentence\", {s: ['The', 'defendant', 'wished', 'the', 'verdict', 'would', 'be', 'decided', 'soon.']}, \"Question\", {q: \" Is the sentence about a prosecutor??\", hasCorrect: 1}],\n",
      "[[\"bias-noun-comp\",6], \"DashedSentence\", {s: ['The', 'defendant', 'accepted', 'the', 'verdict', 'would', 'be', 'decided', 'soon.']}, \"Question\", {q: \" Is the sentence about a prosecutor??\", hasCorrect: 1}],\n",
      "[[\"bias-comp-comp\",7], \"DashedSentence\", {s: ['The', 'gardener', 'decided', 'the', 'lawn', 'was', 'in', 'good', 'shape.']}, \"Question\", {q: \" Is the lawn in bad shape according to the gardener??\", hasCorrect: 1}],\n",
      "[[\"bias-noun-comp\",7], \"DashedSentence\", {s: ['The', 'gardener', 'maintained', 'the', 'lawn', 'was', 'in', 'good', 'shape.']}, \"Question\", {q: \" Is the lawn in bad shape according to the gardener??\", hasCorrect: 1}],\n",
      "[[\"bias-comp-comp\",8], \"DashedSentence\", {s: ['The', 'student', 'hoped', 'the', 'solution', 'was', 'in', 'the', 'back', 'of', 'the', 'book.']}, \"Question\", {q: \" Is the sentence about a farmer??\", hasCorrect: 1}],\n",
      "[[\"bias-noun-comp\",8], \"DashedSentence\", {s: ['The', 'student', 'forgot', 'the', 'solution', 'was', 'in', 'the', 'back', 'of', 'the', 'book.']}, \"Question\", {q: \" Is the sentence about a farmer??\", hasCorrect: 1}],\n",
      "[[\"bias-comp-comp\",9], \"DashedSentence\", {s: ['The', 'student', 'realized', 'the', 'language', 'was', 'spoken', 'only', 'in', 'one', 'province.']}, \"Question\", {q: \" Is the language spoken in all provinces??\", hasCorrect: 1}],\n",
      "[[\"bias-noun-comp\",9], \"DashedSentence\", {s: ['The', 'student', 'learned', 'the', 'language', 'was', 'spoken', 'only', 'in', 'one', 'province.']}, \"Question\", {q: \" Is the language spoken in all provinces??\", hasCorrect: 1}],\n",
      "[[\"bias-comp-comp\",10], \"DashedSentence\", {s: ['The', 'teacher', 'implied', 'the', 'answer', 'was', 'very', 'complicated.']}, \"Question\", {q: \" Is the answer simple??\", hasCorrect: 1}],\n",
      "[[\"bias-noun-comp\",10], \"DashedSentence\", {s: ['The', 'teacher', 'recalled', 'the', 'answer', 'was', 'very', 'complicated.']}, \"Question\", {q: \" Is the answer simple??\", hasCorrect: 1}],\n"
     ]
    }
   ],
   "source": [
    "newstring = \"\"\n",
    "def process_row(row):\n",
    "    condkey = row[\"Condition\"]\n",
    "    Q = row[\"Question\"]\n",
    "    sent = row[\"Sentence\"]\n",
    "    num = str(1 - row[\"Answer\"])\n",
    "    sentnum = str(row[\"Item\"])\n",
    "    x = \"\"\"[[\" \"\"\".rstrip(\" \") + condkey + \"\"\"  \",\"\"\".lstrip(\" \") + sentnum + \"\"\"], \"DashedSentence\", {s: \"\"\" \n",
    "    x += sent + \"\"\"}, \"Question\", {q: \" \"\"\" + Q + \"\"\"?\", hasCorrect: \"\"\" + num + \"\"\"}],\"\"\"\n",
    "    return x\n",
    "\n",
    "print (\"\\n\".join(list(df.apply(process_row,axis=1))))\n",
    "\n"
   ]
  },
  {
   "cell_type": "code",
   "execution_count": 56,
   "metadata": {},
   "outputs": [
    {
     "data": {
      "text/plain": [
       "'[[\"comp-bias\",1], \"DashedSentence\", {s: [\"The senator\", \"examined\", \"by the court\", \"was\", \"acquitted\"]}, \"Question\", {q: \" Did the senator examine someone??\", hasCorrect: 0}],'"
      ]
     },
     "execution_count": 56,
     "metadata": {},
     "output_type": "execute_result"
    }
   ],
   "source": [
    "x"
   ]
  },
  {
   "cell_type": "code",
   "execution_count": 22,
   "metadata": {},
   "outputs": [
    {
     "data": {
      "text/plain": [
       "\"['this', 'test']\""
      ]
     },
     "execution_count": 22,
     "metadata": {},
     "output_type": "execute_result"
    }
   ],
   "source": [
    "str(['this', 'test'])"
   ]
  },
  {
   "cell_type": "code",
   "execution_count": null,
   "metadata": {},
   "outputs": [],
   "source": []
  }
 ],
 "metadata": {
  "kernelspec": {
   "display_name": "Python 3",
   "language": "python",
   "name": "python3"
  },
  "language_info": {
   "codemirror_mode": {
    "name": "ipython",
    "version": 3
   },
   "file_extension": ".py",
   "mimetype": "text/x-python",
   "name": "python",
   "nbconvert_exporter": "python",
   "pygments_lexer": "ipython3",
   "version": "3.8.3"
  }
 },
 "nbformat": 4,
 "nbformat_minor": 4
}
