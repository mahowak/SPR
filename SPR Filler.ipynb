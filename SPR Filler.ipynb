{
 "cells": [
  {
   "cell_type": "code",
   "execution_count": 54,
   "metadata": {},
   "outputs": [
    {
     "data": {
      "text/html": [
       "<div>\n",
       "<style scoped>\n",
       "    .dataframe tbody tr th:only-of-type {\n",
       "        vertical-align: middle;\n",
       "    }\n",
       "\n",
       "    .dataframe tbody tr th {\n",
       "        vertical-align: top;\n",
       "    }\n",
       "\n",
       "    .dataframe thead th {\n",
       "        text-align: right;\n",
       "    }\n",
       "</style>\n",
       "<table border=\"1\" class=\"dataframe\">\n",
       "  <thead>\n",
       "    <tr style=\"text-align: right;\">\n",
       "      <th></th>\n",
       "      <th>Condition</th>\n",
       "      <th>Item</th>\n",
       "      <th>Sentence</th>\n",
       "      <th>Question</th>\n",
       "      <th>Answer</th>\n",
       "    </tr>\n",
       "  </thead>\n",
       "  <tbody>\n",
       "    <tr>\n",
       "      <th>0</th>\n",
       "      <td>bias-comp-comp</td>\n",
       "      <td>1</td>\n",
       "      <td>[\"The senator\", \"wrote\", \"their opponent\", \"wa...</td>\n",
       "      <td>Did the senator write something?</td>\n",
       "      <td>1</td>\n",
       "    </tr>\n",
       "    <tr>\n",
       "      <th>1</th>\n",
       "      <td>bias-comp-comp</td>\n",
       "      <td>2</td>\n",
       "      <td>[\"The professor\", \"taught\", \"the lesson\",  \"wa...</td>\n",
       "      <td>Did the teacher forget to teach?</td>\n",
       "      <td>0</td>\n",
       "    </tr>\n",
       "    <tr>\n",
       "      <th>2</th>\n",
       "      <td>bias-comp-noun</td>\n",
       "      <td>3</td>\n",
       "      <td>[\"The senator\", \"wrote\", \"a letter\", \"to\", \"me\"]</td>\n",
       "      <td>Did the senator write something?</td>\n",
       "      <td>1</td>\n",
       "    </tr>\n",
       "    <tr>\n",
       "      <th>3</th>\n",
       "      <td>bias-comp-noun</td>\n",
       "      <td>4</td>\n",
       "      <td>[\"The professor\", \"taught\", \"the lesson\",  \"on...</td>\n",
       "      <td>Did the teacher forget to teach?</td>\n",
       "      <td>0</td>\n",
       "    </tr>\n",
       "    <tr>\n",
       "      <th>4</th>\n",
       "      <td>bias-noun-comp</td>\n",
       "      <td>5</td>\n",
       "      <td>[\"The actor\", \"claimed\", \"his friend\", \"was\", ...</td>\n",
       "      <td>Did the actor claim something?</td>\n",
       "      <td>1</td>\n",
       "    </tr>\n",
       "    <tr>\n",
       "      <th>5</th>\n",
       "      <td>bias-noun-comp</td>\n",
       "      <td>6</td>\n",
       "      <td>[\"The farmer\", \"wished\", \"their daughter\",  \"w...</td>\n",
       "      <td>Was the farmer childless?</td>\n",
       "      <td>0</td>\n",
       "    </tr>\n",
       "    <tr>\n",
       "      <th>6</th>\n",
       "      <td>bias-noun-noun</td>\n",
       "      <td>7</td>\n",
       "      <td>[\"The actor\", \"claimed\", \"his roommate\", \"as\",...</td>\n",
       "      <td>Did the actor have a friend?</td>\n",
       "      <td>1</td>\n",
       "    </tr>\n",
       "    <tr>\n",
       "      <th>7</th>\n",
       "      <td>bias-noun-noun</td>\n",
       "      <td>8</td>\n",
       "      <td>[\"The farmer\", \"wished\", \"their daughter\",  \"a...</td>\n",
       "      <td>Did the sentence mention a son?</td>\n",
       "      <td>0</td>\n",
       "    </tr>\n",
       "  </tbody>\n",
       "</table>\n",
       "</div>"
      ],
      "text/plain": [
       "        Condition  Item                                           Sentence  \\\n",
       "0  bias-comp-comp     1  [\"The senator\", \"wrote\", \"their opponent\", \"wa...   \n",
       "1  bias-comp-comp     2  [\"The professor\", \"taught\", \"the lesson\",  \"wa...   \n",
       "2  bias-comp-noun     3   [\"The senator\", \"wrote\", \"a letter\", \"to\", \"me\"]   \n",
       "3  bias-comp-noun     4  [\"The professor\", \"taught\", \"the lesson\",  \"on...   \n",
       "4  bias-noun-comp     5  [\"The actor\", \"claimed\", \"his friend\", \"was\", ...   \n",
       "5  bias-noun-comp     6  [\"The farmer\", \"wished\", \"their daughter\",  \"w...   \n",
       "6  bias-noun-noun     7  [\"The actor\", \"claimed\", \"his roommate\", \"as\",...   \n",
       "7  bias-noun-noun     8  [\"The farmer\", \"wished\", \"their daughter\",  \"a...   \n",
       "\n",
       "                           Question  Answer  \n",
       "0  Did the senator write something?       1  \n",
       "1  Did the teacher forget to teach?       0  \n",
       "2  Did the senator write something?       1  \n",
       "3  Did the teacher forget to teach?       0  \n",
       "4    Did the actor claim something?       1  \n",
       "5         Was the farmer childless?       0  \n",
       "6      Did the actor have a friend?       1  \n",
       "7   Did the sentence mention a son?       0  "
      ]
     },
     "execution_count": 54,
     "metadata": {},
     "output_type": "execute_result"
    }
   ],
   "source": [
    "import pandas as pd\n",
    "df = pd.read_excel(\"sample_spr_stim.xlsx\")\n",
    "df"
   ]
  },
  {
   "cell_type": "code",
   "execution_count": 55,
   "metadata": {},
   "outputs": [
    {
     "name": "stdout",
     "output_type": "stream",
     "text": [
      "[[\"bias-comp-comp\",1], \"DashedSentence\", {s: [\"The senator\", \"wrote\", \"their opponent\", \"was\", \"acquitted\"]}, \"Question\", {q: \" Did the senator write something??\", hasCorrect: 1}],\n",
      "[[\"bias-comp-comp\",2], \"DashedSentence\", {s: [\"The professor\", \"taught\", \"the lesson\",  \"was\", \"easy\"]}, \"Question\", {q: \" Did the teacher forget to teach??\", hasCorrect: 0}],\n",
      "[[\"bias-comp-noun\",3], \"DashedSentence\", {s: [\"The senator\", \"wrote\", \"a letter\", \"to\", \"me\"]}, \"Question\", {q: \" Did the senator write something??\", hasCorrect: 1}],\n",
      "[[\"bias-comp-noun\",4], \"DashedSentence\", {s: [\"The professor\", \"taught\", \"the lesson\",  \"on\", \"the board\"]}, \"Question\", {q: \" Did the teacher forget to teach??\", hasCorrect: 0}],\n",
      "[[\"bias-noun-comp\",5], \"DashedSentence\", {s: [\"The actor\", \"claimed\", \"his friend\", \"was\", \"a star\"]}, \"Question\", {q: \" Did the actor claim something??\", hasCorrect: 1}],\n",
      "[[\"bias-noun-comp\",6], \"DashedSentence\", {s: [\"The farmer\", \"wished\", \"their daughter\",  \"was\", \"present\"]}, \"Question\", {q: \" Was the farmer childless??\", hasCorrect: 0}],\n",
      "[[\"bias-noun-noun\",7], \"DashedSentence\", {s: [\"The actor\", \"claimed\", \"his roommate\", \"as\", \"a friend.\"]}, \"Question\", {q: \" Did the actor have a friend??\", hasCorrect: 1}],\n",
      "[[\"bias-noun-noun\",8], \"DashedSentence\", {s: [\"The farmer\", \"wished\", \"their daughter\",  \"a\", \"happy birthday\"]}, \"Question\", {q: \" Did the sentence mention a son??\", hasCorrect: 0}],\n"
     ]
    }
   ],
   "source": [
    "newstring = \"\"\n",
    "def process_row(row):\n",
    "    condkey = row[\"Condition\"]\n",
    "    Q = row[\"Question\"]\n",
    "    sent = row[\"Sentence\"]\n",
    "    num = str(1 - row[\"Answer\"])\n",
    "    sentnum = str(row[\"Item\"])\n",
    "    x = \"\"\"[[\" \"\"\".rstrip(\" \") + condkey + \"\"\"  \",\"\"\".lstrip(\" \") + sentnum + \"\"\"], \"DashedSentence\", {s: \"\"\" \n",
    "    x += sent + \"\"\"}, \"Question\", {q: \" \"\"\" + Q + \"\"\"?\", hasCorrect: \"\"\" + num + \"\"\"}],\"\"\"\n",
    "    return x\n",
    "\n",
    "print (\"\\n\".join(list(df.apply(process_row,axis=1))))\n",
    "\n"
   ]
  },
  {
   "cell_type": "code",
   "execution_count": 56,
   "metadata": {},
   "outputs": [
    {
     "data": {
      "text/plain": [
       "'[[\"comp-bias\",1], \"DashedSentence\", {s: [\"The senator\", \"examined\", \"by the court\", \"was\", \"acquitted\"]}, \"Question\", {q: \" Did the senator examine someone??\", hasCorrect: 0}],'"
      ]
     },
     "execution_count": 56,
     "metadata": {},
     "output_type": "execute_result"
    }
   ],
   "source": [
    "x"
   ]
  },
  {
   "cell_type": "code",
   "execution_count": null,
   "metadata": {},
   "outputs": [],
   "source": []
  }
 ],
 "metadata": {
  "kernelspec": {
   "display_name": "Python 3",
   "language": "python",
   "name": "python3"
  },
  "language_info": {
   "codemirror_mode": {
    "name": "ipython",
    "version": 3
   },
   "file_extension": ".py",
   "mimetype": "text/x-python",
   "name": "python",
   "nbconvert_exporter": "python",
   "pygments_lexer": "ipython3",
   "version": "3.8.3"
  }
 },
 "nbformat": 4,
 "nbformat_minor": 4
}
