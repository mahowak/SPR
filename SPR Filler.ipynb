{
 "cells": [
  {
   "cell_type": "code",
   "execution_count": 26,
   "metadata": {},
   "outputs": [],
   "source": [
    "condkey = \"comp-bias\"\n",
    "Q = \"Did the senator examine someone?\"\n",
    "sent = \"\"\"[\"The senator\", \"examined\", \"by the court\", \"was\", \"acquitted\"]\"\"\"\n",
    "num = \"0\"\n",
    "x = \"\"\"[[{\" \"\"\" + condkey + \"\"\"  \"},1], \"DashedSentence\", {s: \"\"\" \n",
    "x += sent + \"\"\"}, \"Question\", {q: \" \"\"\" + Q + \"\"\"?\", hasCorrect: \"\"\" + num + \"\"\"}],\"\"\"\n"
   ]
  },
  {
   "cell_type": "code",
   "execution_count": 27,
   "metadata": {},
   "outputs": [
    {
     "data": {
      "text/plain": [
       "'[[{\" comp-bias  \"},1], \"DashedSentence\", {s: [\"The senator\", \"examined\", \"by the court\", \"was\", \"acquitted\"]}, \"Question\", {q: \" Did the senator examine someone??\", hasCorrect: 0}],'"
      ]
     },
     "execution_count": 27,
     "metadata": {},
     "output_type": "execute_result"
    }
   ],
   "source": [
    "x"
   ]
  },
  {
   "cell_type": "code",
   "execution_count": null,
   "metadata": {},
   "outputs": [],
   "source": []
  }
 ],
 "metadata": {
  "kernelspec": {
   "display_name": "Python 3",
   "language": "python",
   "name": "python3"
  },
  "language_info": {
   "codemirror_mode": {
    "name": "ipython",
    "version": 3
   },
   "file_extension": ".py",
   "mimetype": "text/x-python",
   "name": "python",
   "nbconvert_exporter": "python",
   "pygments_lexer": "ipython3",
   "version": "3.8.3"
  }
 },
 "nbformat": 4,
 "nbformat_minor": 4
}
